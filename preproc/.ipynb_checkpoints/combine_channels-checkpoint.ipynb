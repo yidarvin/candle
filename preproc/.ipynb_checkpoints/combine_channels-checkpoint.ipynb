{
 "metadata": {
  "name": "",
  "signature": "sha256:274ce04046151ddee6c2f98369dbde8246c3ab029fa484f9ce059187854558ef"
 },
 "nbformat": 3,
 "nbformat_minor": 0,
 "worksheets": [
  {
   "cells": [
    {
     "cell_type": "code",
     "collapsed": false,
     "input": [
      "import h5py\n",
      "import numpy as np\n",
      "from os import listdir,mkdir\n",
      "from os.path import join,isdir\n",
      "\n",
      "import matplotlib.pyplot as plt\n",
      "%matplotlib inline"
     ],
     "language": "python",
     "metadata": {},
     "outputs": [],
     "prompt_number": 8
    },
    {
     "cell_type": "code",
     "collapsed": false,
     "input": [
      "# Define filepath\n",
      "path_data = '/home/dnr/Documents/data/messidor/testing'\n",
      "path_save = '/home/dnr/Documents/data/messidor/testing_5chan'"
     ],
     "language": "python",
     "metadata": {},
     "outputs": [],
     "prompt_number": 14
    },
    {
     "cell_type": "code",
     "collapsed": false,
     "input": [
      "list_pats = listdir(path_data)\n",
      "\n",
      "for name_pat in list_pats:\n",
      "    path_imgs = join(path_data, name_pat)\n",
      "    path_save_pat = join(path_save, name_pat)\n",
      "    if not isdir(path_save_pat):\n",
      "        mkdir(path_save_pat)\n",
      "    list_imgs = listdir(path_imgs)\n",
      "    for name_img in list_imgs:\n",
      "        path_h5 = join(path_imgs, name_img)\n",
      "        path_save_h5 = join(path_save_pat, name_img)\n",
      "        h5f_orig = h5py.File(path_h5, 'r')\n",
      "        lab = np.array(h5f_orig['label'])\n",
      "        img = np.array(h5f_orig['data'])\n",
      "        seg = np.array(h5f_orig['seg_EX-seg'])\n",
      "        img = np.concatenate((img, seg.reshape([512, 512, 1])), axis=2)\n",
      "        seg = np.array(h5f_orig['seg_MA-seg'])\n",
      "        img = np.concatenate((img, seg.reshape([512, 512, 1])), axis=2)\n",
      "        h5f_save = h5py.File(path_save_h5, 'w')\n",
      "        h5f_save.create_dataset(\"data\", data=img)\n",
      "        h5f_save.create_dataset(\"label\", data=lab)\n",
      "        h5f_orig.close()\n",
      "        h5f_save.close()"
     ],
     "language": "python",
     "metadata": {},
     "outputs": [],
     "prompt_number": 16
    },
    {
     "cell_type": "code",
     "collapsed": false,
     "input": [],
     "language": "python",
     "metadata": {},
     "outputs": []
    }
   ],
   "metadata": {}
  }
 ]
}